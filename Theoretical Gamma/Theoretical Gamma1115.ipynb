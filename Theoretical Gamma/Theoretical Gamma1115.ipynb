{
 "cells": [
  {
   "cell_type": "code",
   "execution_count": null,
   "id": "3b52b054",
   "metadata": {},
   "outputs": [],
   "source": [
    "# Author: Shiqi Jiang\n",
    "# Last modified: 11/08/2021"
   ]
  },
  {
   "cell_type": "code",
   "execution_count": null,
   "id": "3e47944d",
   "metadata": {},
   "outputs": [],
   "source": [
    "# This file attempts to generate random data points from a theoretical Gamma, compute their Nearest Neighbour Distributions,\n",
    "# and to compare them with the empirical one(with outliers) to find the closest one. Then use the parameters of this Gamma to model\n",
    "# the empirical data.\n"
   ]
  },
  {
   "cell_type": "code",
   "execution_count": 1,
   "id": "998cce25",
   "metadata": {},
   "outputs": [],
   "source": [
    "import numpy as np\n",
    "from scipy.stats import gamma\n",
    "import matplotlib.pyplot as plt"
   ]
  },
  {
   "cell_type": "code",
   "execution_count": 2,
   "id": "5ecdb4db",
   "metadata": {},
   "outputs": [],
   "source": [
    "# Local file of datasets. Use AT only here\n",
    "# IGNORE THIS\n",
    "data_location_AT = [r\"D:\\file\\2021fall\\Research\\P-value\\data\\ATER\",\n",
    "                 r\"D:\\file\\2021fall\\Research\\P-value\\data\\ATERDD\",\n",
    "                 r\"D:\\file\\2021fall\\Research\\P-value\\data\\ATGEO\",\n",
    "                 r\"D:\\file\\2021fall\\Research\\P-value\\data\\ATGEOGD\",\n",
    "                 r\"D:\\file\\2021fall\\Research\\P-value\\data\\ATHGG\",\n",
    "                 r\"D:\\file\\2021fall\\Research\\P-value\\data\\ATSF\",\n",
    "                 r\"D:\\file\\2021fall\\Research\\P-value\\data\\ATSFDD\",\n",
    "                 r\"D:\\file\\2021fall\\Research\\P-value\\data\\ATSticky\",\n",
    "                 r\"D:\\file\\2021fall\\Research\\P-value\\data\\ATOriginal\"]"
   ]
  },
  {
   "cell_type": "code",
   "execution_count": 3,
   "id": "0a479e6d",
   "metadata": {},
   "outputs": [],
   "source": [
    "cat = ['ER','ERDD','GEO','GEOGD','HGG','SF','SFDD','Sticky']    # for future use\n",
    "\n",
    "ER = np.genfromtxt('/Users/jiang/Documents/Research/data/ATER')     # Generating array for real data from file.  ER has 499 data points "
   ]
  },
  {
   "cell_type": "code",
   "execution_count": 4,
   "id": "926be016",
   "metadata": {},
   "outputs": [],
   "source": [
    "# generating random sample points from theoretical gamma\n",
    "def gamma_points(num,shape=None,scale=None,location=0,random=True):\n",
    "    \"\"\"\n",
    "    num: # of points generated\n",
    "    shape, scale: need to be specified if random is False, generating a fixed-value gamma\n",
    "    random: default=True: generating <num> random points from a gamma with random shape and scale.\n",
    "    Return the paramters of the gamma, the Gamma object itself, and the a Sorted List of randomly generated points\n",
    "    \"\"\"\n",
    "    if random:\n",
    "        r = np.random.rand(1,3)\n",
    "        shape,scale,location = r[0][0]*5,r[0][1]*20, r[0][2]*5    # generating random parameters. To be refined.\n",
    "    print(\"Shape: {}, Scale: {}\".format(shape,scale))\n",
    "    Gamma = gamma(a=shape,scale=scale,loc=location)\n",
    "    s = Gamma.rvs(num)\n",
    "    s = s.tolist()\n",
    "    s.sort()\n",
    "    return shape,scale,Gamma, s"
   ]
  },
  {
   "cell_type": "code",
   "execution_count": 5,
   "id": "48eb998b",
   "metadata": {},
   "outputs": [],
   "source": [
    "# computing nearest neighbour distance for sample data points(only 1d considered)\n",
    "def nearest_distance(L):\n",
    "    \"\"\"\n",
    "    L: should be a Sorted List of data points\n",
    "    Return an Array of Nearest Neighbour Distances\n",
    "    \"\"\"\n",
    "    d = []\n",
    "    for i in range(len(L)):\n",
    "        if i == 0:\n",
    "            d.append(abs(L[i+1]-L[i]))\n",
    "        elif i == len(L)-1:\n",
    "            d.append(abs(L[i]-L[i-1]))\n",
    "        else:\n",
    "            d.append(min(abs(L[i]-L[i-1]),abs(L[i+1]-L[i])))\n",
    "    return np.array(d)\n",
    "            "
   ]
  },
  {
   "cell_type": "code",
   "execution_count": 154,
   "id": "4b8e54ac",
   "metadata": {},
   "outputs": [],
   "source": [
    "# use gamma for imported methods and Gamma for local variables\n",
    "# plot theoretical gamma pdf, sample points hist, and NN hist\n",
    "def plot(shape,scale,Gamma, points, distance, data_distance,Distance=False):\n",
    "    \"\"\"\n",
    "    points: Sorted List of randomly generated points\n",
    "    distance: NN of those ^^ points\n",
    "    \"\"\"\n",
    "    x = np.linspace(Gamma.ppf(0.01), Gamma.ppf(0.99), 100)\n",
    "    f, ax = plt.subplots(nrows = 1, ncols = 1, figsize=(20,15))\n",
    "    #ax[0].plot(x, Gamma.pdf(x))\n",
    "    #ax[0].set_title('Gamma PDF')\n",
    "    \n",
    "    #ax[1].hist(points,bins=100,edgecolor='white')\n",
    "    #ax[1].set_title('Gamma Random Points')\n",
    "    \n",
    "    distance_nooutlier = [i for i in distance if i <= 6e7]\n",
    "    print(\"outliers discraded: \",len(distance)- len(distance_nooutlier))\n",
    "    if Distance:\n",
    "        ax.hist(distance_nooutlier, bins=100, alpha=0.8,edgecolor='white')\n",
    "        ax.hist(data_distance, bins=100, alpha=0.5,edgecolor='white')\n",
    "        ax.set_title('Nearest Distance')\n",
    "        ax.set_xticks(range(0,60000000,1000000))\n",
    "    plt.show()\n"
   ]
  },
  {
   "cell_type": "code",
   "execution_count": 7,
   "id": "4347de82",
   "metadata": {},
   "outputs": [],
   "source": [
    "# calculating real data's shortest(NN) distance \n",
    "# real data is high-dimensional data points\n",
    "def data_distance(data):\n",
    "    shortest_distance = [0]*len(data)\n",
    "    for i in range(len(data)):\n",
    "        x = np.delete(data,i,0)\n",
    "        d = np.sqrt(np.sum((x-data[i])**2))\n",
    "        shortest_distance[i] = d.min()\n",
    "    \n",
    "    return np.array(shortest_distance)   # return an array of real data's NN distance\n",
    "\n",
    "# plotting real data's NN hist\n",
    "def plot_data_distance(D):\n",
    "    \"\"\"\n",
    "    D: an array of real data' NN distance\n",
    "    \"\"\"\n",
    "    f, ax = plt.subplots(1,1, figsize = (8,6))\n",
    "    ax.hist(D,edgecolor='white',bins=50)   ## consider specifying <bins>\n",
    "    plt.show()\n",
    "    return"
   ]
  },
  {
   "cell_type": "code",
   "execution_count": 8,
   "id": "b317f284",
   "metadata": {},
   "outputs": [
    {
     "data": {
      "image/png": "[encoded data removed]",
      "text/plain": [
       "<Figure size 576x432 with 1 Axes>"
      ]
     },
     "metadata": {
      "needs_background": "light"
     },
     "output_type": "display_data"
    }
   ],
   "source": [
    "# plot real data's NN distance\n",
    "real_data_distance = data_distance(ER)\n",
    "plot_data_distance(real_data_distance)"
   ]
  },
  {
   "cell_type": "code",
   "execution_count": null,
   "id": "0551ccc9",
   "metadata": {},
   "outputs": [],
   "source": [
    "# A theoretical Gamma with fixed parameters\n",
    "shape,scale,Gamma,sample= gamma_points(499,11,5,False)\n",
    "sample_NN = nearest_distance(sample)\n",
    "plot(shape,scale,Gamma, sample, sample_NN, True)"
   ]
  },
  {
   "cell_type": "code",
   "execution_count": null,
   "id": "479245ca",
   "metadata": {},
   "outputs": [],
   "source": [
    "# A random Gamma with random parameters\n",
    "# running this cell will have different result every time\n",
    "shape,scale,Gamma,sample= gamma_points(499)\n",
    "sample_NN = nearest_distance(sample)\n",
    "plot(shape,scale,Gamma, sample, sample_NN, True)"
   ]
  },
  {
   "cell_type": "markdown",
   "id": "62a2ca5d",
   "metadata": {},
   "source": []
  },
  {
   "cell_type": "markdown",
   "id": "78860d79",
   "metadata": {},
   "source": [
    "### 11.13 Manually find appropriate Gamma"
   ]
  },
  {
   "cell_type": "code",
   "execution_count": null,
   "id": "eb17a8d7",
   "metadata": {},
   "outputs": [],
   "source": [
    "#plot real data\n",
    "real_data_distance = data_distance(ER)\n",
    "print(max(real_data_distance))\n",
    "plot_data_distance(real_data_distance)"
   ]
  },
  {
   "cell_type": "code",
   "execution_count": null,
   "id": "79c8e2be",
   "metadata": {},
   "outputs": [],
   "source": [
    "# A theoretical Gamma with fixed parameters\n",
    "shape,scale,Gamma,sample= gamma_points(499,11,5,0,False)\n",
    "sample_NN = nearest_distance(sample)\n",
    "print(max(sample_NN))\n",
    "plot(shape,scale,Gamma, sample, sample_NN, True)"
   ]
  },
  {
   "cell_type": "code",
   "execution_count": null,
   "id": "620e14f3",
   "metadata": {},
   "outputs": [],
   "source": [
    "# A theoretical Gamma with fixed parameters\n",
    "shape,scale,Gamma,sample= gamma_points(499,15,5e7,random=False)\n",
    "sample_NN = nearest_distance(sample)\n",
    "min_r = min(real_data_distance)\n",
    "min_s = min(sample_NN)\n",
    "print(min_r,min_s)\n",
    "print(max(sample_NN))\n",
    "plot(shape,scale,Gamma, sample, sample_NN,real_data_distance-(min_r-min_s), True)"
   ]
  },
  {
   "cell_type": "code",
   "execution_count": null,
   "id": "fcbe1ac9",
   "metadata": {},
   "outputs": [],
   "source": [
    "# A theoretical Gamma with fixed parameters\n",
    "shape,scale,Gamma,sample= gamma_points(499,15,5e7,random=False)\n",
    "sample_NN = nearest_distance(sample)\n",
    "min_r = min(real_data_distance)\n",
    "min_s = min(sample_NN)\n",
    "print(min_r,min_s)\n",
    "print(max(sample_NN))\n",
    "plot(shape,scale,Gamma, sample, sample_NN,real_data_distance-(min_r-min_s), True)"
   ]
  },
  {
   "cell_type": "code",
   "execution_count": null,
   "id": "feb6d102",
   "metadata": {},
   "outputs": [],
   "source": [
    "# A theoretical Gamma with fixed parameters\n",
    "shape,scale,Gamma,sample= gamma_points(499,12,7e7,random=False)\n",
    "sample_NN = nearest_distance(sample)\n",
    "min_r = min(real_data_distance)\n",
    "min_s = min(sample_NN)\n",
    "print(min_r,min_s)\n",
    "print(max(sample_NN))\n",
    "plot(shape,scale,Gamma, sample, sample_NN,real_data_distance-(min_r-min_s), True)"
   ]
  },
  {
   "cell_type": "code",
   "execution_count": null,
   "id": "496ac587",
   "metadata": {},
   "outputs": [],
   "source": [
    "# A theoretical Gamma with fixed parameters\n",
    "shape,scale,Gamma,sample= gamma_points(499,10,7e7,random=False)\n",
    "sample_NN = nearest_distance(sample)\n",
    "min_r = min(real_data_distance)\n",
    "min_s = min(sample_NN)\n",
    "print(min_r,min_s)\n",
    "print(max(sample_NN))\n",
    "plot(shape,scale,Gamma, sample, sample_NN,real_data_distance-(min_r-min_s), True)"
   ]
  },
  {
   "cell_type": "code",
   "execution_count": null,
   "id": "e1bdda2d",
   "metadata": {},
   "outputs": [],
   "source": [
    "# A theoretical Gamma with fixed parameters\n",
    "shape,scale,Gamma,sample= gamma_points(499,11,e7,random=False)\n",
    "sample_NN = nearest_distance(sample)\n",
    "min_r = min(real_data_distance)\n",
    "min_s = min(sample_NN)\n",
    "print(min_r,min_s)\n",
    "print(max(sample_NN))\n",
    "plot(shape,scale,Gamma, sample, sample_NN,real_data_distance-(min_r-min_s), True)"
   ]
  },
  {
   "cell_type": "code",
   "execution_count": null,
   "id": "088069ef",
   "metadata": {},
   "outputs": [],
   "source": [
    "# A theoretical Gamma with fixed parameters\n",
    "shape,scale,Gamma,sample= gamma_points(499,11.5,5e7,random=False)\n",
    "sample_NN = nearest_distance(sample)\n",
    "min_r = min(real_data_distance)\n",
    "min_s = min(sample_NN)\n",
    "print(min_r,min_s)\n",
    "print(max(sample_NN))\n",
    "plot(shape,scale,Gamma, sample, sample_NN,real_data_distance-(min_r-min_s), True)"
   ]
  },
  {
   "cell_type": "code",
   "execution_count": null,
   "id": "fff68788",
   "metadata": {},
   "outputs": [],
   "source": [
    "# A theoretical Gamma with fixed parameters\n",
    "shape,scale,Gamma,sample= gamma_points(499,11.5,5e7,random=False)\n",
    "sample_NN = nearest_distance(sample)\n",
    "min_r = min(real_data_distance)\n",
    "min_s = min(sample_NN)\n",
    "print(min_r,min_s)\n",
    "print(max(sample_NN))\n",
    "plot(shape,scale,Gamma, sample, sample_NN,real_data_distance-(min_r-min_s), True)"
   ]
  },
  {
   "cell_type": "code",
   "execution_count": null,
   "id": "76f97f6b",
   "metadata": {},
   "outputs": [],
   "source": [
    "# A theoretical Gamma with fixed parameters\n",
    "shape,scale,Gamma,sample= gamma_points(499,11.5,5e7,random=False)\n",
    "sample_NN = nearest_distance(sample)\n",
    "min_r = min(real_data_distance)\n",
    "min_s = min(sample_NN)\n",
    "print(min_r,min_s)\n",
    "print(max(sample_NN))\n",
    "plot(shape,scale,Gamma, sample, sample_NN,real_data_distance-(min_r-min_s), True)"
   ]
  },
  {
   "cell_type": "code",
   "execution_count": null,
   "id": "3fb43ec3",
   "metadata": {},
   "outputs": [],
   "source": [
    "# A theoretical Gamma with fixed parameters\n",
    "shape,scale,Gamma,sample= gamma_points(499,11.5,5e7,random=False)\n",
    "sample_NN = nearest_distance(sample)\n",
    "min_r = min(real_data_distance)\n",
    "min_s = min(sample_NN)\n",
    "print(min_r,min_s)\n",
    "print(max(sample_NN))\n",
    "plot(shape,scale,Gamma, sample, sample_NN,real_data_distance-(min_r-min_s), True)"
   ]
  },
  {
   "cell_type": "markdown",
   "id": "d1554c20",
   "metadata": {},
   "source": [
    "### same parameters, still depends on different samplings\n",
    "### not enough complexity to model the emirical data?"
   ]
  },
  {
   "cell_type": "code",
   "execution_count": null,
   "id": "187fd9ad",
   "metadata": {},
   "outputs": [],
   "source": []
  },
  {
   "cell_type": "code",
   "execution_count": null,
   "id": "03ce2f4d",
   "metadata": {},
   "outputs": [],
   "source": []
  },
  {
   "cell_type": "code",
   "execution_count": null,
   "id": "af26355d",
   "metadata": {},
   "outputs": [],
   "source": []
  },
  {
   "cell_type": "code",
   "execution_count": 155,
   "id": "33699921",
   "metadata": {},
   "outputs": [
    {
     "name": "stdout",
     "output_type": "stream",
     "text": [
      "!!!!!\n",
      "Shape: 32, Scale: 20000000.0\n",
      "7561299.601992339 530.824955701828\n",
      "155202061.26463938\n",
      "outliers discraded:  2\n"
     ]
    },
    {
     "data": {
      "image/png": "[encoded data removed]",
      "text/plain": [
       "<Figure size 1440x1080 with 1 Axes>"
      ]
     },
     "metadata": {
      "needs_background": "light"
     },
     "output_type": "display_data"
    }
   ],
   "source": [
    "# A theoretical Gamma with fixed parameters\n",
    "print(\"!!!!!\")\n",
    "#starting parameters = 11,5e10\n",
    "shape,scale,Gamma,sample= gamma_points(499,32,2e7,random=False)\n",
    "sample_NN = nearest_distance(sample)\n",
    "min_r = min(real_data_distance)\n",
    "min_s = min(sample_NN)\n",
    "print(min_r,min_s)\n",
    "print(max(sample_NN))\n",
    "plot(shape,scale,Gamma, sample, sample_NN,real_data_distance-(min_r-min_s), True)"
   ]
  },
  {
   "cell_type": "code",
   "execution_count": 104,
   "id": "1ab28d29",
   "metadata": {},
   "outputs": [
    {
     "data": {
      "text/plain": [
       "1343265959.2910979"
      ]
     },
     "execution_count": 104,
     "metadata": {},
     "output_type": "execute_result"
    }
   ],
   "source": [
    "sum(real_data_distance-(min_r-min_s))"
   ]
  },
  {
   "cell_type": "code",
   "execution_count": null,
   "id": "96167a60",
   "metadata": {},
   "outputs": [],
   "source": []
  }
 ],
 "metadata": {
  "kernelspec": {
   "display_name": "Python 3",
   "language": "python",
   "name": "python3"
  },
  "language_info": {
   "codemirror_mode": {
    "name": "ipython",
    "version": 3
   },
   "file_extension": ".py",
   "mimetype": "text/x-python",
   "name": "python",
   "nbconvert_exporter": "python",
   "pygments_lexer": "ipython3",
   "version": "3.8.8"
  }
 },
 "nbformat": 4,
 "nbformat_minor": 5
}
