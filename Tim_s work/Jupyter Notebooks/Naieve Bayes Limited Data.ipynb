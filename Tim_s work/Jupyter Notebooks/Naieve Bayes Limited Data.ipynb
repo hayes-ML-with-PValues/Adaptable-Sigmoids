{
 "cells": [
  {
   "cell_type": "code",
   "execution_count": 1,
   "metadata": {},
   "outputs": [],
   "source": [
    "0import pandas as pd\n",
    "import numpy as np\n",
    "from sklearn.model_selection import train_test_split\n",
    "import matplotlib.pyplot as plt\n",
    "from sklearn.neighbors.kde import KernelDensity\n",
    "import time\n",
    "\n",
    "dfOrigin = pd.read_csv(r\"C:\\Users\\Tim Huang\\Downloads\\fileName\")"
   ]
  },
  {
   "cell_type": "code",
   "execution_count": 68,
   "metadata": {},
   "outputs": [],
   "source": [
    "def is_outlier(points, thresh=1.5):\n",
    "    \"\"\"\n",
    "    Returns a boolean array with True if points are outliers and False \n",
    "    otherwise.\n",
    "\n",
    "    Parameters:\n",
    "    -----------\n",
    "        points : An numobservations by numdimensions array of observations\n",
    "        thresh : The modified z-score to use as a threshold. Observations with\n",
    "            a modified z-score (based on the median absolute deviation) greater\n",
    "            than this value will be classified as outliers.\n",
    "\n",
    "    Returns:\n",
    "    --------\n",
    "        mask : A numobservations-length boolean array.\n",
    "\n",
    "    References:\n",
    "    ----------\n",
    "        Boris Iglewicz and David Hoaglin (1993), \"Volume 16: How to Detect and\n",
    "        Handle Outliers\", The ASQC Basic References in Quality Control:\n",
    "        Statistical Techniques, Edward F. Mykytka, Ph.D., Editor. \n",
    "    \"\"\"\n",
    "    if len(points.shape) == 1:\n",
    "        points = points[:,None]\n",
    "#     median = np.median(points, axis=0)\n",
    "#     diff = np.sum((points - median)**2, axis=-1)\n",
    "#     diff = np.sqrt(diff)\n",
    "#     print(diff)\n",
    "#     med_abs_deviation = np.median(diff)\n",
    "    quartile1 = np.quantile(points, .25, axis = 0)\n",
    "    quartile3 = np.quantile(points, .75, axis = 0)\n",
    "    iqr = quartile3 - quartile1\n",
    "    \n",
    "    quartileScore1 = np.abs(points-quartile1).T[0]\n",
    "    quartileScore3 = abs(points-quartile3).T[0]\n",
    "    scores = np.minimum(quartileScore1, quartileScore3)\n",
    "    print(scores)\n",
    "#     print(quartileScore1.shape)\n",
    "#     print((scores> thresh).shape)\n",
    "    print(thresh*iqr)\n",
    "    return scores > thresh*iqr\n",
    "\n",
    "#     modified_z_score = 0.6745 * diff / med_abs_deviation\n",
    "#     print((modified_z_score > thresh).shape)\n",
    "#     return modified_z_score > thresh\n",
    "\n",
    "def getPercent(val, nums, bucket, total):\n",
    "    print(val, total, np.sum(nums))\n",
    "    print(nums[-1], bucket.shape, bucket[-1])\n",
    "    pointsCounted = np.sum(nums)\n",
    "    count = -1\n",
    "    for upper in bucket:\n",
    "        if upper <= val:\n",
    "            count += 1\n",
    "            \n",
    "    \n",
    "    if count == -1 or count == len(nums):\n",
    "        return (total-pointsCounted)/total\n",
    "    else:\n",
    "        return nums[count]/total\n",
    "    \n"
   ]
  },
  {
   "cell_type": "markdown",
   "metadata": {},
   "source": [
    "##### bandwidth selection from https://www.hindawi.com/journals/jps/2015/242683/ #####"
   ]
  },
  {
   "cell_type": "code",
   "execution_count": null,
   "metadata": {},
   "outputs": [],
   "source": [
    "def bandwithSelection(data):\n",
    "    length = data.shape[0]\n",
    "    std = np.std(data)0\n",
    "    \n",
    "    return 1.5157*std*length**(-2/5)\n",
    "    "
   ]
  },
  {
   "cell_type": "code",
   "execution_count": 3,
   "metadata": {},
   "outputs": [],
   "source": [
    "dfOrigin['2. high'] = dfOrigin['2. high']/dfOrigin['1. open']\n",
    "dfOrigin['3. low'] = dfOrigin['3. low']/dfOrigin['1. open']\n",
    "dfOrigin['4. close'] = dfOrigin['4. close']/dfOrigin['1. open']\n",
    "dfOrigin['5. adjusted close'] = dfOrigin['5. adjusted close']/dfOrigin['1. open']\n",
    "dfOrigin['1. open'] = 1"
   ]
  },
  {
   "cell_type": "code",
   "execution_count": 4,
   "metadata": {},
   "outputs": [],
   "source": [
    "saveCopy = dfOrigin"
   ]
  },
  {
   "cell_type": "code",
   "execution_count": 5,
   "metadata": {},
   "outputs": [
    {
     "name": "stdout",
     "output_type": "stream",
     "text": [
      "         date  1. open   2. high    3. low  4. close  5. adjusted close  \\\n",
      "0  2000-01-03        1  1.001753  0.982945  0.987451           0.987451   \n",
      "1  2000-01-04        1  1.000027  0.967991  0.969002           0.969002   \n",
      "2  2000-01-05        1  1.020541  0.995386  1.012128           1.012128   \n",
      "3  2000-01-06        1  1.018004  0.998657  1.012588           1.012588   \n",
      "4  2000-01-07        1  1.024991  0.999365  1.024495           1.024495   \n",
      "\n",
      "     6. volume  7. dividend amount  8. split coefficient company  nextDay1  \\\n",
      "0  169750000.0                 0.0                   1.0    DJIA  0.969002   \n",
      "1  178420000.0                 0.0                   1.0    DJIA  1.012128   \n",
      "2  203190000.0                 0.0                   1.0    DJIA  1.012588   \n",
      "3  176550000.0                 0.0                   1.0    DJIA  1.024495   \n",
      "4  184900000.0                 0.0                   1.0    DJIA  1.003444   \n",
      "\n",
      "   nextDay2  nextDay3  nextDay4  nextDay5  \n",
      "0  1.012128  1.012588  1.024495  1.003444  \n",
      "1  1.012588  1.024495  1.003444  0.995039  \n",
      "2  1.024495  1.003444  0.995039  1.003856  \n",
      "3  1.003444  0.995039  1.003856  1.002093  \n",
      "4  0.995039  1.003856  1.002093  1.008919  \n"
     ]
    }
   ],
   "source": [
    "dfOrigin = dfOrigin.assign(nextDay1=dfOrigin['4. close'].shift(-1))\n",
    "dfOrigin = dfOrigin.assign(nextDay2=dfOrigin['4. close'].shift(-2))\n",
    "dfOrigin = dfOrigin.assign(nextDay3=dfOrigin['4. close'].shift(-3))\n",
    "dfOrigin = dfOrigin.assign(nextDay4=dfOrigin['4. close'].shift(-4))\n",
    "dfOrigin = dfOrigin.assign(nextDay5=dfOrigin['4. close'].shift(-5))\n",
    "print(dfOrigin.head())"
   ]
  },
  {
   "cell_type": "code",
   "execution_count": 6,
   "metadata": {},
   "outputs": [],
   "source": [
    "dfOrigin['5 day result'] = dfOrigin['nextDay1'] * dfOrigin['nextDay2'] *dfOrigin['nextDay3'] * \\\n",
    "                            dfOrigin['nextDay4'] * dfOrigin['nextDay5']"
   ]
  },
  {
   "cell_type": "code",
   "execution_count": 7,
   "metadata": {},
   "outputs": [],
   "source": [
    "dfOrigin['5 day binary'] = dfOrigin['5 day result'] >= 1"
   ]
  },
  {
   "cell_type": "code",
   "execution_count": 8,
   "metadata": {},
   "outputs": [
    {
     "name": "stdout",
     "output_type": "stream",
     "text": [
      "         date  1. open   2. high    3. low  4. close  5. adjusted close  \\\n",
      "0  2000-01-03        1  1.001753  0.982945  0.987451           0.987451   \n",
      "1  2000-01-04        1  1.000027  0.967991  0.969002           0.969002   \n",
      "2  2000-01-05        1  1.020541  0.995386  1.012128           1.012128   \n",
      "3  2000-01-06        1  1.018004  0.998657  1.012588           1.012588   \n",
      "4  2000-01-07        1  1.024991  0.999365  1.024495           1.024495   \n",
      "\n",
      "     6. volume  7. dividend amount  8. split coefficient company  nextDay1  \\\n",
      "0  169750000.0                 0.0                   1.0    DJIA  0.969002   \n",
      "1  178420000.0                 0.0                   1.0    DJIA  1.012128   \n",
      "2  203190000.0                 0.0                   1.0    DJIA  1.012588   \n",
      "3  176550000.0                 0.0                   1.0    DJIA  1.024495   \n",
      "4  184900000.0                 0.0                   1.0    DJIA  1.003444   \n",
      "\n",
      "   nextDay2  nextDay3  nextDay4  nextDay5  5 day result  5 day binary  \\\n",
      "0  1.012128  1.012588  1.024495  1.003444      1.020930          True   \n",
      "1  1.012588  1.024495  1.003444  0.995039      1.048362          True   \n",
      "2  1.024495  1.003444  0.995039  1.003856      1.039794          True   \n",
      "3  1.003444  0.995039  1.003856  1.002093      1.029017          True   \n",
      "4  0.995039  1.003856  1.002093  1.008919      1.013372          True   \n",
      "\n",
      "  finalComp  \n",
      "0      DJIA  \n",
      "1      DJIA  \n",
      "2      DJIA  \n",
      "3      DJIA  \n",
      "4      DJIA  \n"
     ]
    }
   ],
   "source": [
    "dfOrigin = dfOrigin.assign(finalComp=dfOrigin['company'].shift(-5))\n",
    "print(dfOrigin.head())"
   ]
  },
  {
   "cell_type": "code",
   "execution_count": 9,
   "metadata": {},
   "outputs": [],
   "source": [
    "dfOrigin = dfOrigin[dfOrigin['finalComp'] == dfOrigin['company']]"
   ]
  },
  {
   "cell_type": "code",
   "execution_count": 10,
   "metadata": {
    "scrolled": false
   },
   "outputs": [],
   "source": [
    "x = dfOrigin[['2. high', '3. low', '4. close', '5. adjusted close']]\n",
    "y = dfOrigin[['5 day binary']]\n",
    "x = x.to_numpy()\n",
    "y = y.to_numpy().astype(int)\n",
    "\n",
    "data = dfOrigin[['5 day result']].to_numpy()\n",
    "\n"
   ]
  },
  {
   "cell_type": "code",
   "execution_count": null,
   "metadata": {},
   "outputs": [],
   "source": []
  },
  {
   "cell_type": "code",
   "execution_count": null,
   "metadata": {},
   "outputs": [],
   "source": []
  },
  {
   "cell_type": "code",
   "execution_count": 11,
   "metadata": {},
   "outputs": [],
   "source": [
    "xTrain, xTest, yTrain, yTest = train_test_split(x, y, test_size = 0.2, random_state = 0)"
   ]
  },
  {
   "cell_type": "code",
   "execution_count": 12,
   "metadata": {},
   "outputs": [
    {
     "data": {
      "image/png": "[encoded data removed]",
      "text/plain": [
       "<Figure size 432x288 with 1 Axes>"
      ]
     },
     "metadata": {
      "needs_background": "light"
     },
     "output_type": "display_data"
    }
   ],
   "source": [
    "sorted_data = np.sort(data)\n",
    "\n",
    "yvals=np.arange(len(sorted_data))/float(len(sorted_data)-1)\n",
    "\n",
    "plt.plot(sorted_data,data)\n",
    "\n",
    "plt.show()"
   ]
  },
  {
   "cell_type": "code",
   "execution_count": 13,
   "metadata": {},
   "outputs": [
    {
     "name": "stdout",
     "output_type": "stream",
     "text": [
      "(462940, 4) (462940, 1)\n"
     ]
    }
   ],
   "source": [
    "print(xTrain.shape, yTrain.shape)\n",
    "yTrain = yTrain.T[0]\n",
    "yTest = yTest.T[0]"
   ]
  },
  {
   "cell_type": "code",
   "execution_count": 14,
   "metadata": {},
   "outputs": [
    {
     "name": "stdout",
     "output_type": "stream",
     "text": [
      "[False False False ... False  True False]\n"
     ]
    }
   ],
   "source": [
    "#splitting\n",
    "numTrain = xTrain.shape[0]\n",
    "numTest = xTest.shape[0]\n",
    "print(yTrain == 0)\n",
    "# Split training data into two separate classes\n",
    "xTrain0 = xTrain[yTrain == 0]\n",
    "xTrain1 = xTrain[yTrain == 1]\n",
    "\n",
    "M = xTrain.shape[1]\n",
    "\n",
    "# Estimate mean of Gaussian f_X|Y(x_ij | y_i)\n",
    "# muhat[0,j] equals the mean of X_ij given Y_i=0\n",
    "# muhat[1,j] equals the mean of X_ij given Y_i=1\n",
    "muhat = np.zeros((2,M))\n",
    "muhat[0] = np.mean(xTrain0, axis=0)\n",
    "muhat[1] = np.mean(xTrain1, axis=0)"
   ]
  },
  {
   "cell_type": "code",
   "execution_count": 15,
   "metadata": {},
   "outputs": [
    {
     "name": "stdout",
     "output_type": "stream",
     "text": [
      "Test accuracy: 0.472299\n",
      "Test false alarms: 0\n",
      "Test missed detections: 61074\n"
     ]
    },
    {
     "data": {
      "image/png": "[encoded data removed]",
      "text/plain": [
       "<Figure size 432x288 with 1 Axes>"
      ]
     },
     "metadata": {
      "needs_background": "light"
     },
     "output_type": "display_data"
    }
   ],
   "source": [
    "# Naive baseline classifier:  Predict all test examples are class 0\n",
    "yHat = np.zeros(numTest)\n",
    "\n",
    "# Accuracy (fraction of test days classified correctly)\n",
    "accuracy = np.sum(yHat==yTest)/numTest\n",
    "print('Test accuracy: %f' % accuracy)\n",
    "falseAlarms = np.sum(np.logical_and(yHat==1, yTest==0))\n",
    "print('Test false alarms: %d' % falseAlarms)\n",
    "misses = np.sum(np.logical_and(yHat==0, yTest==1))\n",
    "print('Test missed detections: %d' % misses)\n",
    "\n",
    "# show plot\n",
    "plt.plot(muhat[0] - muhat[1])\n",
    "plt.xlabel('Feature index')\n",
    "plt.ylabel('Difference in class means')\n",
    "\n",
    "plt.show()"
   ]
  },
  {
   "cell_type": "markdown",
   "metadata": {},
   "source": [
    "This part is adjusting for standard deviations"
   ]
  },
  {
   "cell_type": "code",
   "execution_count": 16,
   "metadata": {},
   "outputs": [],
   "source": [
    "sigmahat = np.zeros((2,M))\n",
    "sigmahat[0] = np.std(xTrain0, axis=0)\n",
    "sigmahat[1] = np.std(xTrain1, axis=0)"
   ]
  },
  {
   "cell_type": "code",
   "execution_count": 17,
   "metadata": {},
   "outputs": [
    {
     "name": "stdout",
     "output_type": "stream",
     "text": [
      "[[1.49725643 2.22843339 2.20598105 ... 0.         0.         0.        ]\n",
      " [1.6225633  2.39823492 2.37692756 ... 0.         0.         0.        ]]\n"
     ]
    }
   ],
   "source": [
    "logDensityC = np.zeros([2,xTrain.shape[0]])\n",
    "for i in range(xTest.shape[0]):\n",
    "    logDensityC[0,i] = sum(np.log(2*np.pi* sigmahat[0])*(-1/2) - np.square(xTest[i]-muhat[0])/(2*sigmahat[0]))\n",
    "    logDensityC[1,i] = sum(np.log(2*np.pi* sigmahat[1])*(-1/2) - np.square(xTest[i]-muhat[1])/(2*sigmahat[1]))\n",
    "    \n",
    "print(logDensityC)"
   ]
  },
  {
   "cell_type": "code",
   "execution_count": 18,
   "metadata": {},
   "outputs": [],
   "source": [
    "yC = np.zeros(xTest.shape[0])\n",
    "for i in range(xTest.shape[0]):\n",
    "     yC[i] = 0 if logDensityC[0,i] >= logDensityC[1,i] else 1"
   ]
  },
  {
   "cell_type": "code",
   "execution_count": 19,
   "metadata": {},
   "outputs": [
    {
     "name": "stdout",
     "output_type": "stream",
     "text": [
      "Test accuracy: 0.529317\n",
      "Test false alarms: 53929\n",
      "Test missed detections: 546\n"
     ]
    }
   ],
   "source": [
    "accuracy = np.sum(yC==yTest)/numTest\n",
    "print('Test accuracy: %f' % accuracy)\n",
    "falseAlarms = np.sum(np.logical_and(yC==1, yTest==0))\n",
    "print('Test false alarms: %d' % falseAlarms)\n",
    "misses = np.sum(np.logical_and(yC==0, yTest==1))\n",
    "print('Test missed detections: %d' % misses)"
   ]
  },
  {
   "cell_type": "code",
   "execution_count": 20,
   "metadata": {},
   "outputs": [
    {
     "name": "stdout",
     "output_type": "stream",
     "text": [
      "Predicted going up: 114457.0\n",
      "False Positives: 53929\n",
      "Correct Percentage: 0.5288274199044183\n"
     ]
    }
   ],
   "source": [
    "print('Predicted going up:', sum(yC))\n",
    "print('False Positives:', falseAlarms)\n",
    "print('Correct Percentage:', 1 - falseAlarms/sum(yC))"
   ]
  },
  {
   "cell_type": "markdown",
   "metadata": {},
   "source": [
    "    The following is no consideration of standard deviation"
   ]
  },
  {
   "cell_type": "code",
   "execution_count": 21,
   "metadata": {},
   "outputs": [],
   "source": [
    "logDensity = np.zeros([2,xTest.shape[0]])\n",
    "\n",
    "for i in range(xTest.shape[0]):\n",
    "    logDensity[0,i] = sum(np.square(xTest[i]-muhat[0]))\n",
    "    logDensity[1,i] = sum(np.square(xTest[i]-muhat[1]))"
   ]
  },
  {
   "cell_type": "code",
   "execution_count": 22,
   "metadata": {},
   "outputs": [],
   "source": [
    "yGuess = np.zeros(xTest.shape[0])\n",
    "for i in range(xTest.shape[0]):\n",
    "     y[i] = 1 if logDensity[0,i] > logDensity[1,i] else 0"
   ]
  },
  {
   "cell_type": "code",
   "execution_count": 23,
   "metadata": {},
   "outputs": [
    {
     "name": "stdout",
     "output_type": "stream",
     "text": [
      "Test accuracy: 0.472299\n",
      "Test false alarms: 0\n",
      "Test missed detections: 61074\n"
     ]
    }
   ],
   "source": [
    "accuracy = np.sum(yGuess==yTest)/numTest\n",
    "print('Test accuracy: %f' % accuracy)\n",
    "falseAlarms = np.sum(np.logical_and(yGuess==1, yTest==0))\n",
    "print('Test false alarms: %d' % falseAlarms)\n",
    "misses = np.sum(np.logical_and(yGuess==0, yTest==1))\n",
    "print('Test missed detections: %d' % misses)"
   ]
  },
  {
   "cell_type": "markdown",
   "metadata": {},
   "source": [
    "    Following is considering with standard deviation"
   ]
  },
  {
   "cell_type": "code",
   "execution_count": 24,
   "metadata": {},
   "outputs": [],
   "source": [
    "logDensityD = np.zeros([2,xTest.shape[0]])\n",
    "pY1 = xTrain1.shape[0]/xTrain.shape[0]\n",
    "pY0 = xTrain0.shape[0]/xTrain.shape[0]\n",
    "\n",
    "for i in range(xTest.shape[0]):\n",
    "    logDensityD[0,i] = np.log(pY0) + sum(np.log(2*np.pi* sigmahat[0])*(-1/2) - np.square(xTest[i]-muhat[0])/(2*sigmahat[0]))\n",
    "    logDensityD[1,i] = np.log(pY1) + sum(np.log(2*np.pi* sigmahat[1])*(-1/2) - np.square(xTest[i]-muhat[1])/(2*sigmahat[1]))"
   ]
  },
  {
   "cell_type": "code",
   "execution_count": 25,
   "metadata": {},
   "outputs": [],
   "source": [
    "yD = np.zeros(xTest.shape[0])\n",
    "for i in range(xTest.shape[0]):\n",
    "     yD[i] = 0 if logDensityD[0,i] > logDensityD[1,i] else 1"
   ]
  },
  {
   "cell_type": "code",
   "execution_count": 26,
   "metadata": {},
   "outputs": [
    {
     "name": "stdout",
     "output_type": "stream",
     "text": [
      "Test accuracy: 0.529360\n",
      "Test false alarms: 53936\n",
      "Test missed detections: 534\n"
     ]
    }
   ],
   "source": [
    "accuracy = np.sum(yD==yTest)/numTest\n",
    "print('Test accuracy: %f' % accuracy)\n",
    "falseAlarms = np.sum(np.logical_and(yD==1, yTest==0))\n",
    "print('Test false alarms: %d' % falseAlarms)\n",
    "misses = np.sum(np.logical_and(yD==0, yTest==1))\n",
    "print('Test missed detections: %d' % misses)"
   ]
  },
  {
   "cell_type": "code",
   "execution_count": 27,
   "metadata": {},
   "outputs": [
    {
     "name": "stdout",
     "output_type": "stream",
     "text": [
      "Predicted going up: 114476.0\n",
      "False Positives: 53936\n",
      "Correct Percentage: 0.5288444739508718\n"
     ]
    }
   ],
   "source": [
    "print('Predicted going up:', sum(yD))\n",
    "print('False Positives:', falseAlarms)\n",
    "print('Correct Percentage:', 1 - falseAlarms/sum(yD))"
   ]
  },
  {
   "cell_type": "code",
   "execution_count": null,
   "metadata": {},
   "outputs": [],
   "source": []
  },
  {
   "cell_type": "markdown",
   "metadata": {},
   "source": [
    "        Scikit learn's things"
   ]
  },
  {
   "cell_type": "code",
   "execution_count": 28,
   "metadata": {},
   "outputs": [],
   "source": [
    "from sklearn.naive_bayes import GaussianNB\n",
    "\n",
    "gnb = GaussianNB()\n",
    "y_pred = gnb.fit(xTrain, yTrain).predict_proba(xTest)\n",
    "y_noAdjust = np.zeros(xTest.shape[0])\n",
    "y_adjust = np.zeros(xTest.shape[0])\n",
    "for i in range(y_pred.shape[0]):\n",
    "    y_adjust[i] = 1 if y_pred[i][1] >= .6 else 0\n",
    "    y_noAdjust[i] = 1 if y_pred[i][1] > y_pred[i][0] else 0"
   ]
  },
  {
   "cell_type": "code",
   "execution_count": 29,
   "metadata": {},
   "outputs": [],
   "source": [
    "#################### Test for if double probability ####################"
   ]
  },
  {
   "cell_type": "code",
   "execution_count": 30,
   "metadata": {},
   "outputs": [
    {
     "name": "stdout",
     "output_type": "stream",
     "text": [
      "Test accuracy: 0.514360\n",
      "Test false alarms: 32661\n",
      "Test missed detections: 23545\n"
     ]
    }
   ],
   "source": [
    "accuracy = np.sum(y_adjust==yTest)/numTest\n",
    "print('Test accuracy: %f' % accuracy)\n",
    "falseAlarms = np.sum(np.logical_and(y_adjust==1, yTest==0))\n",
    "print('Test false alarms: %d' % falseAlarms)\n",
    "misses = np.sum(np.logical_and(y_adjust==0, yTest==1))\n",
    "print('Test missed detections: %d' % misses)"
   ]
  },
  {
   "cell_type": "code",
   "execution_count": 31,
   "metadata": {},
   "outputs": [
    {
     "name": "stdout",
     "output_type": "stream",
     "text": [
      "Predicted going up: 70190.0\n",
      "False Positives: 32661\n",
      "Correct Percentage: 0.5346773044593247\n"
     ]
    }
   ],
   "source": [
    "print('Predicted going up:', sum(y_adjust))\n",
    "print('False Positives:', falseAlarms)\n",
    "print('Correct Percentage:', 1 - falseAlarms/sum(y_adjust))"
   ]
  },
  {
   "cell_type": "code",
   "execution_count": 32,
   "metadata": {},
   "outputs": [],
   "source": [
    "#################### Test for just greater possibility ################"
   ]
  },
  {
   "cell_type": "code",
   "execution_count": 33,
   "metadata": {},
   "outputs": [
    {
     "name": "stdout",
     "output_type": "stream",
     "text": [
      "Test accuracy: 0.527632\n",
      "Test missed detections: 4148\n",
      "\n",
      "Predicted going up: 107448.0\n",
      "False Positives: 50522\n",
      "Correct Percentage: 0.5298004616186434\n"
     ]
    }
   ],
   "source": [
    "accuracy = np.sum(y_noAdjust==yTest)/numTest\n",
    "print('Test accuracy: %f' % accuracy)\n",
    "falseAlarms = np.sum(np.logical_and(y_noAdjust==1, yTest==0))\n",
    "misses = np.sum(np.logical_and(y_noAdjust==0, yTest==1))\n",
    "print('Test missed detections: %d' % misses)\n",
    "print()\n",
    "print('Predicted going up:', sum(y_noAdjust))\n",
    "print('False Positives:', falseAlarms)\n",
    "print('Correct Percentage:', 1 - falseAlarms/sum(y_noAdjust))\n"
   ]
  },
  {
   "cell_type": "markdown",
   "metadata": {},
   "source": [
    "        Gausian test"
   ]
  },
  {
   "cell_type": "code",
   "execution_count": 34,
   "metadata": {},
   "outputs": [
    {
     "name": "stdout",
     "output_type": "stream",
     "text": [
      "p = 0\n",
      "The null hypothesis can be rejected\n"
     ]
    }
   ],
   "source": [
    "from scipy import stats\n",
    "x = xTest[:, 2]\n",
    "\n",
    "k2, p = stats.normaltest(x)\n",
    "alpha = 1e-3\n",
    "print(\"p = {:g}\".format(p))\n",
    "\n",
    "if p < alpha:  # null hypothesis: x comes from a normal distribution\n",
    "    print(\"The null hypothesis can be rejected\")\n",
    "else:\n",
    "    print(\"The null hypothesis cannot be rejected\")"
   ]
  },
  {
   "cell_type": "markdown",
   "metadata": {},
   "source": [
    "    Finding type of distribution"
   ]
  },
  {
   "cell_type": "code",
   "execution_count": 35,
   "metadata": {},
   "outputs": [
    {
     "name": "stdout",
     "output_type": "stream",
     "text": [
      "[0.0047321  0.007277   0.00497277 ... 0.00059136 0.0055398  0.00457256]\n",
      "[0.01950697]\n",
      "[0.00334363 0.00344705 0.0017358  ... 0.00477864 0.00016156 0.0060375 ]\n",
      "[0.01887744]\n"
     ]
    },
    {
     "data": {
      "image/png": "[encoded data removed]",
      "text/plain": [
       "<Figure size 432x288 with 2 Axes>"
      ]
     },
     "metadata": {
      "needs_background": "light"
     },
     "output_type": "display_data"
    }
   ],
   "source": [
    "x = xTrain0[:,0]\n",
    "y = xTrain1[:,0]  ###### High Comparision ######\n",
    "x = x[~is_outlier(x)]\n",
    "y = y[~is_outlier(y)]\n",
    "\n",
    "n_bins = 1000\n",
    "fig, axs = plt.subplots(1, 2, sharey=True, tight_layout=True)\n",
    "\n",
    "# We can set the number of bins with the `bins` kwarg\n",
    "n0_0, bins0_0, patches0_0 = axs[0].hist(x, bins= n_bins)\n",
    "n0_1, bins0_1, patches0_1 = axs[1].hist(y, bins= n_bins)\n",
    "\n",
    "plt.show()"
   ]
  },
  {
   "cell_type": "code",
   "execution_count": 36,
   "metadata": {},
   "outputs": [
    {
     "name": "stdout",
     "output_type": "stream",
     "text": [
      "[0.0005302  0.00535419 0.00494589 ... 0.00053123 0.00278954 0.00202999]\n",
      "[0.01986368]\n",
      "[0.00283295 0.00563279 0.00153674 ... 0.00526434 0.00165241 0.00155631]\n",
      "[0.0193995]\n"
     ]
    },
    {
     "data": {
      "image/png": "[encoded data removed]",
      "text/plain": [
       "<Figure size 432x288 with 2 Axes>"
      ]
     },
     "metadata": {
      "needs_background": "light"
     },
     "output_type": "display_data"
    }
   ],
   "source": [
    "x = xTrain0[:,1]\n",
    "y = xTrain1[:,1]   ######### Low Comparision  #########\n",
    "x = x[~is_outlier(x)]\n",
    "y = y[~is_outlier(y)]\n",
    "\n",
    "n_bins = 1000\n",
    "fig, axs = plt.subplots(1, 2, sharey=True, tight_layout=True)\n",
    "\n",
    "# We can set the number of bins with the `bins` kwarg\n",
    "n1_0, bins1_0, patches1_0 = axs[0].hist(x, bins=n_bins)\n",
    "n1_1, bins1_1, patches1_1 = axs[1].hist(y, bins=n_bins)\n",
    "plt.show()"
   ]
  },
  {
   "cell_type": "code",
   "execution_count": 37,
   "metadata": {},
   "outputs": [
    {
     "name": "stdout",
     "output_type": "stream",
     "text": [
      "[0.00527832 0.01019057 0.00981809 ... 0.00840178 0.00107339 0.00087608]\n",
      "[0.0261479]\n",
      "[0.00350545 0.00136429 0.00337738 ... 0.00102261 0.00591447 0.00751886]\n",
      "[0.02542209]\n"
     ]
    },
    {
     "data": {
      "image/png": "[encoded data removed]",
      "text/plain": [
       "<Figure size 432x288 with 2 Axes>"
      ]
     },
     "metadata": {
      "needs_background": "light"
     },
     "output_type": "display_data"
    }
   ],
   "source": [
    "x = xTrain0[:,2]\n",
    "y = xTrain1[:,2]  ########## Close Comparison ##########\n",
    "x = x[~is_outlier(x)]\n",
    "y = y[~is_outlier(y)]\n",
    "# print(x.shape, xTrain.shape)\n",
    "\n",
    "n_bins = 1000\n",
    "fig, axs = plt.subplots(1, 2, sharey=True, tight_layout=True)\n",
    "\n",
    "# We can set the number of bins with the `bins` kwarg\n",
    "n2_0, bins2_0, patches2_0 = axs[0].hist(x, bins=n_bins)\n",
    "n2_1, bins2_1, patches2_1 = axs[1].hist(y, bins=n_bins)\n",
    "\n",
    "plt.show()"
   ]
  },
  {
   "cell_type": "code",
   "execution_count": 38,
   "metadata": {},
   "outputs": [
    {
     "name": "stdout",
     "output_type": "stream",
     "text": [
      "[0.03526501 0.04259329 0.01864192 ... 0.1251769  0.02471968 0.03351479]\n",
      "[0.59992233]\n",
      "[0.16705369 0.02205956 0.03320305 ... 0.00474468 0.28466151 0.03094271]\n",
      "[0.61394442]\n"
     ]
    },
    {
     "data": {
      "image/png": "[encoded data removed]",
      "text/plain": [
       "<Figure size 432x288 with 2 Axes>"
      ]
     },
     "metadata": {
      "needs_background": "light"
     },
     "output_type": "display_data"
    }
   ],
   "source": [
    "x = xTrain0[:,3]\n",
    "y = xTrain1[:,3]  ########## adjst close #############\n",
    "x = x[~is_outlier(x)]\n",
    "y = y[~is_outlier(y)]\n",
    "\n",
    "n_bins = 1000\n",
    "fig, axs = plt.subplots(1, 2, sharey=True, tight_layout=True)\n",
    "\n",
    "# We can set the number of bins with the `bins` kwarg\n",
    "n3_0, bins3_0, patches3_0 = axs[0].hist(x, bins=n_bins)\n",
    "n3_1, bins3_1, patches3_1 = axs[1].hist(y, bins=n_bins)\n",
    "\n",
    "plt.show()"
   ]
  },
  {
   "cell_type": "code",
   "execution_count": null,
   "metadata": {},
   "outputs": [],
   "source": []
  },
  {
   "cell_type": "markdown",
   "metadata": {},
   "source": [
    "    Don't use the gaussian but use the buckets instead"
   ]
  },
  {
   "cell_type": "markdown",
   "metadata": {},
   "source": [
    "####    Following Class Taken from https://jakevdp.github.io/PythonDataScienceHandbook/05.13-kernel-density-estimation.html ####"
   ]
  },
  {
   "cell_type": "markdown",
   "metadata": {},
   "source": [
    "    Using Kernal Density Estimation to find the distributions\n",
    "    f_hat(x) = 1/nh * sum( K[(x - x_i)/h])\n",
    "    with K(x) = normal distribution function"
   ]
  },
  {
   "cell_type": "code",
   "execution_count": 52,
   "metadata": {},
   "outputs": [],
   "source": [
    "from sklearn.base import BaseEstimator, ClassifierMixin\n",
    "\n",
    "\n",
    "class KDEClassifier(BaseEstimator, ClassifierMixin):\n",
    "    \"\"\"Bayesian generative classification based on KDE\n",
    "    \n",
    "    Parameters\n",
    "    ----------\n",
    "    bandwidth : float\n",
    "        the kernel bandwidth within each class\n",
    "    kernel : str\n",
    "        the kernel name, passed to KernelDensity\n",
    "    \"\"\"\n",
    "    def __init__(self, bandwidth=1.0, kernel='gaussian'):\n",
    "        self.bandwidth = bandwidth\n",
    "        self.kernel = kernel\n",
    "        self.predicted = 0\n",
    "        \n",
    "    def fit(self, X, y):\n",
    "        print('fitting', X, y)\n",
    "        self.classes_ = np.sort(np.unique(y))\n",
    "        training_sets = [X[y == yi] for yi in self.classes_]\n",
    "        print('starting modelFitting')\n",
    "        self.models_ = []\n",
    "        for Xi in training_sets:\n",
    "#             print('modeling', Xi, Xi.shape)\n",
    "            self.models_.append(KernelDensity(bandwidth=bandwithSelection(Xi),\n",
    "                                      kernel=self.kernel).fit(Xi))\n",
    "            print('finished')\n",
    "        print('getting log priors')\n",
    "        self.logpriors_ = [np.log(Xi.shape[0] / X.shape[0])\n",
    "                           for Xi in training_sets]\n",
    "        return self\n",
    "        \n",
    "    def predict_proba(self, X):\n",
    "        start = time.time()\n",
    "        self.predicted += 1\n",
    "        print('predicted')\n",
    "        logprobs = np.array([model.score_samples(X)\n",
    "                             for model in self.models_]).T\n",
    "        print('doing smth')\n",
    "        print(logprobs)\n",
    "        result = np.exp(logprobs + self.logpriors_)\n",
    "        \n",
    "        end = time.time()\n",
    "        print('time taken', end - start)\n",
    "        return result / result.sum(1, keepdims=True)\n",
    "        \n",
    "    def predict(self, X):\n",
    "        print('predicting')\n",
    "        return self.classes_[np.argmax(self.predict_proba(X), 1)]"
   ]
  },
  {
   "cell_type": "code",
   "execution_count": 70,
   "metadata": {},
   "outputs": [
    {
     "name": "stdout",
     "output_type": "stream",
     "text": [
      "fitting [[1.00703267 0.98616152 1.00521779 0.80129764]\n",
      " [1.00713609 0.98896136 0.99041088 0.99041088]\n",
      " [1.00195324 0.99472484 0.99515255 0.93514827]\n",
      " ...\n",
      " [1.0038506  0.99460916 0.99768964 0.27439353]\n",
      " [1.01218002 0.99814203 1.00990917 1.00200454]\n",
      " [1.0102365  0.99470526 0.99929403 0.99929403]] [1 1 1 ... 1 0 1]\n",
      "starting modelFitting\n",
      "finished\n",
      "finished\n",
      "getting log priors\n"
     ]
    }
   ],
   "source": [
    "custom = KDEClassifier()\n",
    "y_pred = custom.fit(xTrain, yTrain)\n"
   ]
  },
  {
   "cell_type": "code",
   "execution_count": 75,
   "metadata": {},
   "outputs": [
    {
     "name": "stdout",
     "output_type": "stream",
     "text": [
      "predicting\n",
      "predicted\n",
      "doing smth\n",
      "[[-12.41584984 -19.03186742]\n",
      " [ 10.90849754  11.30079445]\n",
      " [  7.69163436   7.56324775]\n",
      " ...\n",
      " [  9.60709151   9.83825773]\n",
      " [ 12.03032001  12.17536182]\n",
      " [  5.89827703   5.68666793]]\n",
      "time taken 4791.3602459430695\n"
     ]
    },
    {
     "name": "stderr",
     "output_type": "stream",
     "text": [
      "D:\\Anaconda\\lib\\site-packages\\ipykernel_launcher.py:47: RuntimeWarning: invalid value encountered in true_divide\n"
     ]
    }
   ],
   "source": [
    "y_pred = y_pred.predict(xTest)"
   ]
  },
  {
   "cell_type": "code",
   "execution_count": 78,
   "metadata": {},
   "outputs": [
    {
     "name": "stdout",
     "output_type": "stream",
     "text": [
      "Test accuracy: 0.527364\n",
      "Test missed detections: 4494\n",
      "\n",
      "Predicted going up: 107448.0\n",
      "False Positives: 50207\n",
      "Correct Percentage: 0.5327321122775668\n"
     ]
    }
   ],
   "source": [
    "accuracy = np.sum(y_pred==yTest)/numTest\n",
    "print('Test accuracy: %f' % accuracy)\n",
    "falseAlarms = np.sum(np.logical_and(y_pred==1, yTest==0))\n",
    "misses = np.sum(np.logical_and(y_pred==0, yTest==1))\n",
    "print('Test missed detections: %d' % misses)\n",
    "print()\n",
    "print('Predicted going up:', sum(y_noAdjust))\n",
    "print('False Positives:', falseAlarms)\n",
    "print('Correct Percentage:', 1 - falseAlarms/sum(y_noAdjust))"
   ]
  },
  {
   "cell_type": "code",
   "execution_count": 74,
   "metadata": {},
   "outputs": [
    {
     "name": "stdout",
     "output_type": "stream",
     "text": [
      "(115736, 4)\n",
      "77.15733333333334\n"
     ]
    }
   ],
   "source": [
    "print(xTest.shape)\n",
    "print(xTest.shape[0]*.04 / 60)"
   ]
  },
  {
   "cell_type": "code",
   "execution_count": null,
   "metadata": {
    "scrolled": true
   },
   "outputs": [],
   "source": []
  },
  {
   "cell_type": "code",
   "execution_count": null,
   "metadata": {},
   "outputs": [],
   "source": []
  },
  {
   "cell_type": "code",
   "execution_count": null,
   "metadata": {},
   "outputs": [],
   "source": []
  }
 ],
 "metadata": {
  "kernelspec": {
   "display_name": "Python 3",
   "language": "python",
   "name": "python3"
  },
  "language_info": {
   "codemirror_mode": {
    "name": "ipython",
    "version": 3
   },
   "file_extension": ".py",
   "mimetype": "text/x-python",
   "name": "python",
   "nbconvert_exporter": "python",
   "pygments_lexer": "ipython3",
   "version": "3.7.4"
  }
 },
 "nbformat": 4,
 "nbformat_minor": 2
}
